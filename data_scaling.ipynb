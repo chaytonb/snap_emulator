{
 "cells": [
  {
   "cell_type": "code",
   "execution_count": 1,
   "id": "e3d8909e",
   "metadata": {},
   "outputs": [],
   "source": [
    "import numpy as np"
   ]
  },
  {
   "cell_type": "code",
   "execution_count": 2,
   "id": "7607076d",
   "metadata": {},
   "outputs": [],
   "source": [
    "# Load the npz file\n",
    "data = np.load('combined_t6_data_accumulated.npz')\n",
    "\n",
    "# Create a dictionary to store all arrays (modified and unmodified)\n",
    "scaled_data = {}\n",
    "\n",
    "# Process only the 'pred_vars' array\n",
    "for key in data:\n",
    "    if key == 'pred_vars':\n",
    "        arr = data[key].copy()  # Create a copy to modify\n",
    "        \n",
    "        # Scale columns [:, 1:5] by 10 and columns [:, 5:] by 10^-3\n",
    "        arr[:, 1:5] *= 10      # Scale columns 1-4 by 10\n",
    "        arr[:, 5:] *= 1e-3    # Scale columns 5+ by 10^-3\n",
    "        \n",
    "        scaled_data[key] = arr\n",
    "    else:\n",
    "        # Keep other arrays unchanged\n",
    "        scaled_data[key] = data[key]\n",
    "\n",
    "# Save the modified data to a new npz file\n",
    "np.savez('scaled_combined_t6_data_accumulated.npz', **scaled_data)"
   ]
  },
  {
   "cell_type": "code",
   "execution_count": 3,
   "id": "686dbef6",
   "metadata": {},
   "outputs": [],
   "source": [
    "# Load the npz file\n",
    "data = np.load('combined_t6_data_column.npz')\n",
    "\n",
    "# Create a dictionary to store all arrays (modified and unmodified)\n",
    "scaled_data = {}\n",
    "\n",
    "# Process only the 'pred_vars' array\n",
    "for key in data:\n",
    "    if key == 'pred_vars':\n",
    "        arr = data[key].copy()  # Create a copy to modify\n",
    "        \n",
    "        # Scale columns [:, 1:5] by 10 and columns [:, 5:] by 10^-3\n",
    "        arr[:, 1:5] *= 10      # Scale columns 1-4 by 10\n",
    "        arr[:, 5:] *= 1e-3    # Scale columns 5+ by 10^-3\n",
    "        \n",
    "        scaled_data[key] = arr\n",
    "    else:\n",
    "        # Keep other arrays unchanged\n",
    "        scaled_data[key] = data[key]\n",
    "\n",
    "# Save the modified data to a new npz file\n",
    "np.savez('scaled_combined_t6_data_column.npz', **scaled_data)"
   ]
  },
  {
   "cell_type": "code",
   "execution_count": null,
   "id": "dd58889d",
   "metadata": {},
   "outputs": [],
   "source": []
  }
 ],
 "metadata": {
  "kernelspec": {
   "display_name": "Python 3",
   "language": "python",
   "name": "python3"
  },
  "language_info": {
   "codemirror_mode": {
    "name": "ipython",
    "version": 3
   },
   "file_extension": ".py",
   "mimetype": "text/x-python",
   "name": "python",
   "nbconvert_exporter": "python",
   "pygments_lexer": "ipython3",
   "version": "3.13.2"
  }
 },
 "nbformat": 4,
 "nbformat_minor": 5
}
