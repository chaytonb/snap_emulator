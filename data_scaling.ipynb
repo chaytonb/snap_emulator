{
 "cells": [
  {
   "cell_type": "code",
   "execution_count": 1,
   "id": "e3d8909e",
   "metadata": {},
   "outputs": [],
   "source": [
    "import numpy as np"
   ]
  },
  {
   "cell_type": "code",
   "execution_count": 2,
   "id": "7607076d",
   "metadata": {},
   "outputs": [],
   "source": [
    "# Load the npz file\n",
    "data = np.load('combined_t6_data_accumulated.npz')\n",
    "\n",
    "# Create a dictionary to store all arrays (modified and unmodified)\n",
    "scaled_data = {}\n",
    "\n",
    "# Process only the 'pred_vars' array\n",
    "for key in data:\n",
    "    if key == 'pred_vars':\n",
    "        arr = data[key].copy()  # Create a copy to modify\n",
    "        \n",
    "        # Scale columns [:, 1:5] by 10 and columns [:, 5:] by 10^-3\n",
    "        arr[:, 1:5] *= 10      # Scale columns 1-4 by 10\n",
    "        arr[:, 5:] *= 1e-3    # Scale columns 5+ by 10^-3\n",
    "        \n",
    "        scaled_data[key] = arr\n",
    "    else:\n",
    "        # Keep other arrays unchanged\n",
    "        scaled_data[key] = data[key]\n",
    "\n",
    "# Save the modified data to a new npz file\n",
    "np.savez('scaled_combined_t6_data_accumulated.npz', **scaled_data)"
   ]
  },
  {
   "cell_type": "code",
   "execution_count": 3,
   "id": "686dbef6",
   "metadata": {},
   "outputs": [
    {
     "ename": "FileNotFoundError",
     "evalue": "[Errno 2] No such file or directory: 'combined_t6_data_column.npz'",
     "output_type": "error",
     "traceback": [
      "\u001b[31m---------------------------------------------------------------------------\u001b[39m",
      "\u001b[31mFileNotFoundError\u001b[39m                         Traceback (most recent call last)",
      "\u001b[36mCell\u001b[39m\u001b[36m \u001b[39m\u001b[32mIn[3]\u001b[39m\u001b[32m, line 2\u001b[39m\n\u001b[32m      1\u001b[39m \u001b[38;5;66;03m# Load the npz file\u001b[39;00m\n\u001b[32m----> \u001b[39m\u001b[32m2\u001b[39m data = np.load(\u001b[33m'\u001b[39m\u001b[33mcombined_t6_data_column.npz\u001b[39m\u001b[33m'\u001b[39m)\n\u001b[32m      4\u001b[39m \u001b[38;5;66;03m# Create a dictionary to store all arrays (modified and unmodified)\u001b[39;00m\n\u001b[32m      5\u001b[39m scaled_data = {}\n",
      "\u001b[36mFile \u001b[39m\u001b[32m~/.conda/envs/ml_env/lib/python3.13/site-packages/numpy/lib/_npyio_impl.py:451\u001b[39m, in \u001b[36mload\u001b[39m\u001b[34m(file, mmap_mode, allow_pickle, fix_imports, encoding, max_header_size)\u001b[39m\n\u001b[32m    449\u001b[39m     own_fid = \u001b[38;5;28;01mFalse\u001b[39;00m\n\u001b[32m    450\u001b[39m \u001b[38;5;28;01melse\u001b[39;00m:\n\u001b[32m--> \u001b[39m\u001b[32m451\u001b[39m     fid = stack.enter_context(\u001b[38;5;28mopen\u001b[39m(os.fspath(file), \u001b[33m\"\u001b[39m\u001b[33mrb\u001b[39m\u001b[33m\"\u001b[39m))\n\u001b[32m    452\u001b[39m     own_fid = \u001b[38;5;28;01mTrue\u001b[39;00m\n\u001b[32m    454\u001b[39m \u001b[38;5;66;03m# Code to distinguish from NumPy binary files and pickles.\u001b[39;00m\n",
      "\u001b[31mFileNotFoundError\u001b[39m: [Errno 2] No such file or directory: 'combined_t6_data_column.npz'"
     ]
    }
   ],
   "source": [
    "# Load the npz file\n",
    "data = np.load('combined_t6_data_column.npz')\n",
    "\n",
    "# Create a dictionary to store all arrays (modified and unmodified)\n",
    "scaled_data = {}\n",
    "\n",
    "# Process only the 'pred_vars' array\n",
    "for key in data:\n",
    "    if key == 'pred_vars':\n",
    "        arr = data[key].copy()  # Create a copy to modify\n",
    "        \n",
    "        # Scale columns [:, 1:5] by 10 and columns [:, 5:] by 10^-3\n",
    "        arr[:, 1:5] *= 10      # Scale columns 1-4 by 10\n",
    "        arr[:, 5:] *= 1e-3    # Scale columns 5+ by 10^-3\n",
    "        \n",
    "        scaled_data[key] = arr\n",
    "    else:\n",
    "        # Keep other arrays unchanged\n",
    "        scaled_data[key] = data[key]\n",
    "\n",
    "# Save the modified data to a new npz file\n",
    "np.savez('scaled_combined_t6_data_column.npz', **scaled_data)"
   ]
  },
  {
   "cell_type": "code",
   "execution_count": null,
   "id": "dd58889d",
   "metadata": {},
   "outputs": [],
   "source": []
  }
 ],
 "metadata": {
  "kernelspec": {
   "display_name": "Python 3",
   "language": "python",
   "name": "python3"
  },
  "language_info": {
   "codemirror_mode": {
    "name": "ipython",
    "version": 3
   },
   "file_extension": ".py",
   "mimetype": "text/x-python",
   "name": "python",
   "nbconvert_exporter": "python",
   "pygments_lexer": "ipython3",
   "version": "3.13.2"
  }
 },
 "nbformat": 4,
 "nbformat_minor": 5
}
