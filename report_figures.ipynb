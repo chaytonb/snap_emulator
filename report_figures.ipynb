{
 "cells": [
  {
   "cell_type": "code",
   "execution_count": null,
   "id": "969661d2",
   "metadata": {},
   "outputs": [],
   "source": [
    "import numpy as np\n",
    "import torch\n",
    "import unet\n",
    "import model_eval"
   ]
  },
  {
   "cell_type": "code",
   "execution_count": null,
   "id": "81a48699",
   "metadata": {},
   "outputs": [],
   "source": [
    "# Load state_dict \n",
    "model_weights_path = f'models/unet_emulator_report_version.pth'\n",
    "model = unet.UNET()  # Recreate model architecture\n",
    "device = torch.device('cuda' if torch.cuda.is_available() else 'cpu')\n",
    "model.load_state_dict(torch.load(model_weights_path, map_location=device))\n",
    "model.eval()\n",
    "\n",
    "# load data\n",
    "X_data = np.load('data/test_set_report.npz')['pred_vars']\n",
    "y_test = np.load('data/test_set_report.npz')['target_vars']\n",
    "\n",
    "pred_conc_array, true_conc_array = model_eval.unet_predict(model, X_data, y_test)"
   ]
  },
  {
   "cell_type": "code",
   "execution_count": null,
   "id": "4a92fc24",
   "metadata": {},
   "outputs": [],
   "source": [
    "iou_vals = []\n",
    "for sample in range(pred_conc_array.shape[0]):\n",
    "    prediction = pred_conc_array[sample, 0]\n",
    "    truth = true_conc_array[sample, 0]\n",
    "    iou = model_eval.int_over_un(1, prediction, truth)\n",
    "    iou_vals.append(iou.item())\n",
    "\n",
    "print(np.mean(iou_vals))"
   ]
  },
  {
   "cell_type": "code",
   "execution_count": null,
   "id": "de905c85",
   "metadata": {},
   "outputs": [],
   "source": [
    "model_eval.plot_var_unet(pred_conc_array.copy(), true_conc_array.copy(), maxval=0, minval=-19)"
   ]
  },
  {
   "cell_type": "code",
   "execution_count": null,
   "id": "3f295a53",
   "metadata": {},
   "outputs": [],
   "source": [
    "#spatial_acc = model_eval.int_over_un(pred_conc_array, true_conc_array)\n",
    "model_eval.plot_correlation(pred_conc_array, true_conc_array)"
   ]
  }
 ],
 "metadata": {
  "kernelspec": {
   "display_name": "mlcourse",
   "language": "python",
   "name": "python3"
  },
  "language_info": {
   "codemirror_mode": {
    "name": "ipython",
    "version": 3
   },
   "file_extension": ".py",
   "mimetype": "text/x-python",
   "name": "python",
   "nbconvert_exporter": "python",
   "pygments_lexer": "ipython3",
   "version": "3.12.8"
  }
 },
 "nbformat": 4,
 "nbformat_minor": 5
}
