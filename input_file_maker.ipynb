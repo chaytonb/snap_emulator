{
 "cells": [
  {
   "cell_type": "code",
   "execution_count": 3,
   "id": "3bb09cb7",
   "metadata": {},
   "outputs": [],
   "source": [
    "from datetime import datetime, timedelta"
   ]
  },
  {
   "cell_type": "code",
   "execution_count": 4,
   "id": "fb493c10",
   "metadata": {},
   "outputs": [],
   "source": [
    "# Start date\n",
    "start_date = datetime(2023, 1, 1)\n",
    "# End date\n",
    "end_date = datetime(2023, 12, 31)\n",
    "\n",
    "# Iterate over each day\n",
    "current_date = start_date\n",
    "while current_date <= end_date:\n",
    "\n",
    "    with open('snap.input.template', 'r+') as file:\n",
    "        lines = file.readlines()\n",
    "\n",
    "    # Modify input meteorology\n",
    "    day = current_date.strftime(\"%d\")\n",
    "    month = current_date.strftime(\"%m\")\n",
    "    year = current_date.strftime(\"%y\")\n",
    "    \n",
    "    meteo_path = f'FIELD.INPUT = /lustre/storeB/immutable/archive/projects/metproduction/MEPS/2023/{month}/{day}/meps_det_2_5km_2023{month}{day}T00Z.nc\\n'\n",
    "\n",
    "    lines[4] = meteo_path\n",
    "\n",
    "    # Modify start time\n",
    "    lines[13] = f'TIME.START= 20{year} {month} {day} 00\\n'\n",
    "\n",
    "    # Modify output files\n",
    "    lines[21] = f'FIELD.OUTPUT= /lustre/storeB/users/chbou7748/emulator_1/output_files/ringhals_20{year}{month}{day}.nc\\n'\n",
    "    lines[22] = f'LOG.FILE= /lustre/storeB/users/chbou7748/emulator_1/output_files/ringhals_20{year}{month}{day}.log\\n'\n",
    "\n",
    "    with open ('input_files/' + 'ringhals_' + f'{year}{month}{day}' + '.txt', 'w') as file:\n",
    "        file.writelines(lines)\n",
    "\n",
    "    file.close()\n",
    "\n",
    "    current_date += timedelta(days=1)"
   ]
  },
  {
   "cell_type": "code",
   "execution_count": null,
   "id": "a2455a33",
   "metadata": {},
   "outputs": [],
   "source": []
  }
 ],
 "metadata": {
  "kernelspec": {
   "display_name": "Python 3",
   "language": "python",
   "name": "python3"
  },
  "language_info": {
   "codemirror_mode": {
    "name": "ipython",
    "version": 3
   },
   "file_extension": ".py",
   "mimetype": "text/x-python",
   "name": "python",
   "nbconvert_exporter": "python",
   "pygments_lexer": "ipython3",
   "version": "3.13.2"
  }
 },
 "nbformat": 4,
 "nbformat_minor": 5
}
