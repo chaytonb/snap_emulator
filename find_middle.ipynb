{
 "cells": [
  {
   "cell_type": "code",
   "execution_count": null,
   "id": "3d51f1a3",
   "metadata": {},
   "outputs": [],
   "source": [
    "# 57.26006, 12.11076\n",
    "meteo_path = f'/lustre/storeB/immutable/archive/projects/metproduction/MEPS/2023/01/01/meps_det_2_5km_20230101T00Z.nc'\n",
    "meteo_data = xr.open_dataset(meteo_path, engine=\"netcdf4\")\n",
    "snap_data = xr.open_dataset('output_files_t6/ringhals_20230130_00Z.nc')"
   ]
  },
  {
   "cell_type": "code",
   "execution_count": null,
   "id": "4ef711f1",
   "metadata": {},
   "outputs": [],
   "source": [
    "def convert_coords(model, old_long, old_lat):\n",
    "    pr = model[\"projection\"]\n",
    "\n",
    "    if pr.grid_mapping_name == 'rotated_latitude_longitude':\n",
    "\n",
    "        projection = ccrs.RotatedPole(\n",
    "        pole_longitude=pr.attrs[\"grid_north_pole_longitude\"],\n",
    "        pole_latitude=pr.attrs[\"grid_north_pole_latitude\"],)\n",
    "\n",
    "        crs = CRS.from_wkt(projection.to_wkt())\n",
    "\n",
    "        # Transform from lat-lon (ETEX data) to rotated pole coordinate system (harmonie data)\n",
    "        transformer = Transformer.from_crs(\"+proj=longlat +lon_wrap=180\", crs)\n",
    "\n",
    "        new_lon, new_lat = transformer.transform(old_long, old_lat)\n",
    "\n",
    "    elif pr.grid_mapping_name == 'latitude_longitude':\n",
    "        \n",
    "        new_lon, new_lat = old_long, old_lat\n",
    "\n",
    "    elif pr.grid_mapping_name == 'lambert_conformal_conic':\n",
    "            projection = ccrs.LambertConformal(\n",
    "                    central_longitude=pr.attrs[\"longitude_of_central_meridian\"],\n",
    "                    central_latitude=pr.attrs[\"latitude_of_projection_origin\"],\n",
    "                    standard_parallels=[pr.attrs[\"standard_parallel\"]]\n",
    "                )\n",
    "            crs = CRS.from_wkt(projection.to_wkt())\n",
    "        \n",
    "            # Transform from lat-lon (ETEX data) to rotated pole coordinate system (harmonie data)\n",
    "            transformer = Transformer.from_crs(\"+proj=longlat\", crs)\n",
    "\n",
    "            new_lon, new_lat = transformer.transform(old_long, old_lat)\n",
    "\n",
    "    else:\n",
    "        raise ValueError(\"Projection not added to script\")\n",
    "    \n",
    "    return new_lon, new_lat "
   ]
  },
  {
   "cell_type": "code",
   "execution_count": null,
   "id": "cd86c566",
   "metadata": {},
   "outputs": [],
   "source": [
    "rot_lon, rot_lat = convert_coords(snap_data, 12.11076, 57.26006)\n",
    "print(rot_lon, rot_lat)"
   ]
  },
  {
   "cell_type": "code",
   "execution_count": null,
   "id": "6b0660be",
   "metadata": {},
   "outputs": [],
   "source": [
    "print(meteo_data['x_wind_10m'].sel(x=rot_lon, y=rot_lat, method='nearest').x.values)\n",
    "print(meteo_data['x_wind_10m'].sel(x=rot_lon, y=rot_lat, method='nearest').y.values)\n",
    "print(np.where(meteo_data.x.values==-175084)[0][0])\n",
    "print(np.where(meteo_data.y.values==-670017.9)[0][0])"
   ]
  }
 ],
 "metadata": {
  "language_info": {
   "name": "python"
  }
 },
 "nbformat": 4,
 "nbformat_minor": 5
}
