{
 "cells": [
  {
   "cell_type": "code",
   "execution_count": 2,
   "id": "f878c744",
   "metadata": {},
   "outputs": [
    {
     "name": "stdout",
     "output_type": "stream",
     "text": [
      "Successfully created subset with 20 samples at sample_training_data.npz\n"
     ]
    }
   ],
   "source": [
    "import numpy as np\n",
    "import random\n",
    "\n",
    "def create_npz_subset(input_path, output_path, subset_size, random_seed=None):\n",
    "    \"\"\"\n",
    "    Creates a random subset of an NPZ file and saves it as a new NPZ file.\n",
    "    \n",
    "    Parameters:\n",
    "    - input_path: Path to the input NPZ file\n",
    "    - output_path: Path to save the subset NPZ file\n",
    "    - subset_size: Number of samples to include in the subset\n",
    "    - random_seed: Optional random seed for reproducibility\n",
    "    \"\"\"\n",
    "    # Load the original data\n",
    "    with np.load(input_path) as data:\n",
    "        # Get all arrays in the NPZ file\n",
    "        arrays = {key: data[key] for key in data.files}\n",
    "        \n",
    "        # Check if subset_size is valid\n",
    "        first_array = arrays[next(iter(arrays))]\n",
    "        total_samples = len(first_array)\n",
    "        \n",
    "        if subset_size > total_samples:\n",
    "            raise ValueError(f\"Subset size ({subset_size}) cannot be larger than total samples ({total_samples})\")\n",
    "        \n",
    "        # Set random seed if provided\n",
    "        if random_seed is not None:\n",
    "            random.seed(random_seed)\n",
    "            np.random.seed(random_seed)\n",
    "        \n",
    "        # Generate random indices\n",
    "        indices = random.sample(range(total_samples), subset_size)\n",
    "        \n",
    "        # Create subset for each array\n",
    "        subset_arrays = {}\n",
    "        for key, array in arrays.items():\n",
    "            subset_arrays[key] = array[indices]\n",
    "    \n",
    "    # Save the subset to a new NPZ file\n",
    "    np.savez(output_path, **subset_arrays)\n",
    "    print(f\"Successfully created subset with {subset_size} samples at {output_path}\")\n",
    "\n",
    "create_npz_subset('scaled_combined_t6_data_accumulated.npz', 'sample_training_data.npz', subset_size=20, random_seed=42)"
   ]
  }
 ],
 "metadata": {
  "kernelspec": {
   "display_name": "mlcourse",
   "language": "python",
   "name": "python3"
  },
  "language_info": {
   "codemirror_mode": {
    "name": "ipython",
    "version": 3
   },
   "file_extension": ".py",
   "mimetype": "text/x-python",
   "name": "python",
   "nbconvert_exporter": "python",
   "pygments_lexer": "ipython3",
   "version": "3.12.8"
  }
 },
 "nbformat": 4,
 "nbformat_minor": 5
}
